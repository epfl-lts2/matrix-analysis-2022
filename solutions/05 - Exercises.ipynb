{
 "cells": [
  {
   "cell_type": "markdown",
   "id": "75c150e6-64e7-4e8d-b4e8-9d50047abac5",
   "metadata": {},
   "source": [
    "# Matrix Analysis 2022 - EE312\n",
    "\n",
    "## Week 5 - Exercises \n",
    "[LTS2](https://lts2.epfl.ch)"
   ]
  },
  {
   "cell_type": "markdown",
   "id": "0463bb7f-c369-447b-8087-e5ccd4d8bad9",
   "metadata": {},
   "source": [
    "1. Let $A = (1,2) \\in \\mathbb{R}^{1 \\times 2}$ show it is onto and compute $A_R^{-1}$."
   ]
  },
  {
   "cell_type": "markdown",
   "id": "d286e36d-55e1-40e9-8fe8-af97b9144f60",
   "metadata": {},
   "source": [
    "Let $x=\\begin{pmatrix}x_1\\\\x_2\\end{pmatrix}$, $Ax = x_1 + 2x_2$. For any real number $r$, we can use $\\begin{pmatrix}r\\\\0\\end{pmatrix}$ as its antecendent via $A$. Therefore any real has an antecedent, meaning $A$ is onto.\n",
    "\n",
    "$AA_R^{-1} = 1, A_R^{-1}=\\begin{pmatrix}1\\\\0\\end{pmatrix}$ or $\\begin{pmatrix}3\\\\-1\\end{pmatrix}$ are valid solutions\n",
    "\n",
    "---"
   ]
  },
  {
   "cell_type": "markdown",
   "id": "e2d30177-8ea7-47ef-8c8e-00011b652373",
   "metadata": {},
   "source": [
    "2. Let $A = \\begin{pmatrix}1\\\\2\\end{pmatrix} \\in \\mathbb{R}^{2 \\times 1}$ show it is 1-1 and compute $A_L^{-1}$."
   ]
  },
  {
   "cell_type": "markdown",
   "id": "6ef15564-9d12-4c3e-9401-1ba8e3acc66b",
   "metadata": {},
   "source": [
    "Let $x=(x_1, x_2)$ and $y=(y_1, y_2)$, $Ax = \\begin{pmatrix}x_1 & x_2\\\\2x_1 & 2x_2\\end{pmatrix}$ and $Ay = \\begin{pmatrix}y_1 & y_2\\\\2y_1 & 2y_2\\end{pmatrix}$, clearly $Ax=Ay\\Rightarrow x=y$, so $A$ is 1-1. Possible left inverse are the transpose of the ones computed at question 1.\n",
    "\n",
    "---"
   ]
  },
  {
   "cell_type": "markdown",
   "id": "19f416c5-e10f-44d1-bb96-193c9e7359ba",
   "metadata": {},
   "source": [
    "3. $AA^+A = A(AA^T)^{-1}A^TA$. Since $AA^T$ is a scalar, it can be moved around, hence $AA^+A = (AA^T)^{-1}AA^TA = A$\n",
    "\n",
    "$A^+AA^+ = (AA^T)^{-1}A^TA(AA^T)^{-1}A^T = (AA^T)^{-1}A^T (AA^T)^{-1}AA^T = A^+$.\n",
    "\n",
    "$(AA^+)^T = (A(AA^T)^{-1}A^T)^T = (AA^T)^{-1}(AA^T)^T = (AA^T)^{-1}AA^T = AA^+$.\n",
    "\n",
    "$(A^+A)^T = ((AA^T)^{-1}A^TA)^T = (AA^T)^{-1}(A^TA)^T = (AA^T)^{-1}A^TA = A^TA$.\n",
    "\n",
    "---"
   ]
  },
  {
   "cell_type": "markdown",
   "id": "f343a723-89be-4f86-8bc6-ad2e0c2ceb65",
   "metadata": {},
   "source": [
    "4. Let $\\mathcal{P}^n$ be the real vector space of order $n$ polynomials of the form $p(x) = \\sum_{i=0}^n \\alpha_i x^i$. Verify that the following is a scalar product over $\\mathcal{P}^n$ : $\\langle p_1, p_2\\rangle = \\int_{-1}^{+1} dx \\, p_1(x) p_2(x)$."
   ]
  },
  {
   "cell_type": "markdown",
   "id": "fb1f3215-3cbf-49ac-b765-8abed9cc839f",
   "metadata": {},
   "source": [
    "The integral satisfies all required properties. The only non-trivial one is the norm. For any $x^k$, you have $\\langle x^k, x^k\\rangle = \\int_{-1}^{+1} dx \\, x^{2k} = \\frac{1}{2k+1}(1^{2k+1} - (-1)^{2k+1}) = \\frac{2}{2k+1}$.\n",
    "\n",
    "When computing the $\\langle x^k, x^m \\rangle$, there are 2 cases: if $k+m$ is even, then $\\langle x^k, x^m \\rangle = \\frac{2}{m + k + 1}$. If $k+m$ is odd, the result is 0. \n",
    "\n",
    "If you compute $\\langle p, p\\rangle$ for any polynomial, this is equivalent to computing $\\int_{-1}^{+1} dx \\, p^2(x)$.\n",
    "\n",
    "$p^2(x)$ is always positive, therefore $\\langle p, p\\rangle\\geq 0$.\n",
    "\n",
    "Suppose there exist a non-zero polynomial $p$ s.t. $\\langle p, p\\rangle = 0$. There exists $x_0\\in[-1, 1]$ s.t. $p(x_0)>0$. Polynomials are continuous functions, therefore there exist an interval $[a,b]\\subseteq[-1,1]$ on which $p(x)>\\frac{1}{2}p(x_0)$\n",
    "\n",
    "Therefore $\\langle p, p\\rangle\\geq\\int_a^b dx \\, p^2(x)>\\frac{1}{4}p(x_0)^2(b-a)>0$, hence $\\langle p, p\\rangle\\ = 0\\Rightarrow p=0$.\n",
    "\n",
    "---"
   ]
  },
  {
   "cell_type": "markdown",
   "id": "d846bb30-018e-4b89-9784-8db553eb4cd7",
   "metadata": {},
   "source": [
    "5. Using this scalar product and the Gram-Schmidt orthogonalization process, compute an orthonogonal basis of $\\mathcal{P}^n$. (these are the celebrated Legendre polynomials).\n",
    "Compute the first 4 orthogonal basis vectors using Gram-Schmidt process. By convention, the Legendre polynomials are scaled s.t. $p(1)=1$."
   ]
  },
  {
   "cell_type": "markdown",
   "id": "e9f68eb4-acf3-457d-aa18-bed40667d9bc",
   "metadata": {},
   "source": [
    "- $u_0 = v_0 = 1$\n",
    "\n",
    "- $v_1 = x, u_1 = v_1 - P_{u_0}v_1 = x - \\frac{\\langle x, 1\\rangle}{\\langle 1, 1\\rangle}1$.\n",
    "\n",
    "But $\\langle x, 1\\rangle = \\int_{-1}^{+1} dx \\, x = 0$, hence $u_1 = x$.\n",
    "\n",
    "- $v_2 = x^2, u_2 = v_2 - P_{u_1}v_2 - P_{u_0}v_2 = x^2 - \\frac{\\langle x^2, x\\rangle}{\\langle x, x\\rangle}x  - \\frac{\\langle x^2, 1\\rangle}{\\langle 1, 1\\rangle}1$\n",
    "\n",
    "From the previous question $\\langle 1, 1\\rangle = 2$ and $\\langle x, x\\rangle = 2/3$. After integration $\\langle x^2, 1\\rangle = 2/3$ and $\\langle x^2, x\\rangle = 0$, which leads to $u_2 = x^2 -\\frac{1}{3}$. If we force its value at 1 to be 1, we have $u_2 = \\frac{1}{2}(3x^2 - 1)$."
   ]
  },
  {
   "cell_type": "markdown",
   "id": "3976347d-f2a2-40b6-96bb-7087dddee224",
   "metadata": {},
   "source": [
    "- $v_3 = x^3, u_3= v_3 - P_{u_2}v_3 - P_{u_1}v_3 - P_{u_0}v_3$\n",
    "\n",
    "$P_{u_0}v_3 = 0$, $P_{u_1}v3 = \\frac{\\langle x^3, x\\rangle}{\\langle x, x\\rangle}x = \\frac{3}{5}x$\n",
    "\n",
    "$P_{u_2}v_3 = \\frac{\\langle x^3, u_2\\rangle}{\\langle u_2, u_2\\rangle}$\n",
    "\n",
    "$\\langle u2, u2 \\rangle = 2/5$, but $\\langle x^3, u_2\\rangle$ = 0. Therefore:\n",
    "\n",
    "$u_3 = x^3 - \\frac{3}{5}x$. If we force its value at 1 to be 1, we obtain $u_3 = \\frac{1}{2}(5x^3 - 3x)$.\n"
   ]
  },
  {
   "cell_type": "markdown",
   "id": "b386030e-de5e-4b19-a4c7-7b71a993cdef",
   "metadata": {},
   "source": [
    "The matrix of the Legendre coefs is then\n",
    "\n",
    "$L=\\begin{pmatrix}\n",
    "1 & 0 & -\\frac{1}{2} & 0\\\\\n",
    "0 & 1 & 0 &  -\\frac{3}{2}\\\\\n",
    "0 & 0 & \\frac{3}{2} & 0\\\\\n",
    "0 & 0 & 0 & \\frac{5}{2}\n",
    "\\end{pmatrix}$\n",
    "\n",
    "---"
   ]
  },
  {
   "cell_type": "markdown",
   "id": "aad1ea48-f0e7-461b-a439-a4ca2c247e1f",
   "metadata": {},
   "source": [
    "6. Let $D: \\mathcal{P}^n \\rightarrow \\mathcal{P}^{n-1}$ be the linear application defined by the derivative $D(p(x)) = p'(x)$. Compute the matrix representation of $D$ using an orthogonal basis of $\\mathcal{P}^n$ and $\\mathcal{P}^{n-1}$. Is $D$ onto ? Is D 1-1?"
   ]
  },
  {
   "cell_type": "markdown",
   "id": "2507c1a2-9124-4f55-8c27-3951aa7e9540",
   "metadata": {},
   "source": [
    "The matrix $D$ for the canonical basis (keeping degree max = 3) is\n",
    "\n",
    "$D=\\begin{pmatrix}\n",
    "0 & 1 & 0 & 0\\\\\n",
    "0 & 0 & 2 & 0\\\\\n",
    "0 & 0 & 0 & 3\\end{pmatrix}$\n",
    "\n",
    "In the Legendre basis the derivative matrix is\n",
    "\n",
    "$D_L = \\begin{pmatrix}\n",
    "0 & 1 & 0 & 1\\\\\n",
    "0 & 0 & 3 & 0\\\\\n",
    "0 & 0 & 0 & 5\\end{pmatrix}$\n",
    "\n",
    "The derivative of $u_0$ and $u_1$ are trivial, derivative of $u_2$ is $3x = 3u_1$. \n",
    "\n",
    "Derivative of $u_3$  is $\\frac{1}{2}(15x^2-3) = 5u_2 + u_0$.\n",
    "\n",
    "$D$ and $D_L$ are onto since every polynomial is integrable (hence its antecedent exists), but not 1-1 since two polynomials differing by only the constant term will have the same derivative.\n",
    "This is also clear from the matrix, as the first column is 0 and the 3 others are clearly independent, the rank of $D$ and $D_L$ is 3, meaning the matrix is onto.\n",
    "\n",
    "We can also solve this using the matrix $L$. The columns vectors $u_k$ of $L$ are the coordinates of the Legendre basis vectors expressed in the canonical basis. A polynomial expressed in the Legendre basis as $p(x) = \\sum_{k=0}^{n-1}a_ku_k(x)$, each $u_k(x)$ being a polynomial, expressed in the canonical basis, i.e. $u_k(x)=\\sum_{m=0}^{n-1}u_{km}x^m$. Replacing in the previous definition, we then have: $p(x) = \\sum_{k=0}^{n-1}a_k\\sum_{m=0}^{n-1}u_{km}x^m=\\sum_{m=0}^{n-1}\\sum_{k=0}^{n-1}a_ku_{km}x^k = \\sum_{k=0}^{n-11}b_kx^k$.\n",
    "\n",
    "We can rewrite this as a matrix operation $\\begin{pmatrix}b_0\\\\b_1\\\\ \\vdots\\\\b_{n-1}\\end{pmatrix} = L\\begin{pmatrix}a_0\\\\a_1\\\\ \\vdots\\\\a_{n-1}\\end{pmatrix}$\n",
    "\n",
    "Given a polynomial in the canonical basis, its coefficients in the Legendre basis would be $a=L^{-1}b$. In our case $L^1$ can be computed by hand (or via `np.linalg.inv`). We have:\n",
    "\n",
    "$L^{-1}=\\begin{pmatrix}\n",
    "1 & 0 & \\frac{1}{3} & 0\\\\\n",
    "0 & 1 & 0 &  \\frac{3}{5}\\\\\n",
    "0 & 0 & \\frac{2}{3} & 0\\\\\n",
    "0 & 0 & 0 & \\frac{2}{5}\n",
    "\\end{pmatrix}$\n",
    "\n",
    "If we use a slighlty different definition for $D$, s.t. it is no longer $D: \\mathcal{P}^n \\rightarrow \\mathcal{P}^{n-1}$ but $D_s: \\mathcal{P}^n \\rightarrow \\mathcal{P}^{n}$, its matrix will be squared and we have\n",
    "\n",
    "$D_s=\\begin{pmatrix}\n",
    "0 & 1 & 0 & 0\\\\\n",
    "0 & 0 & 2 & 0\\\\\n",
    "0 & 0 & 0 & 3 \\\\\n",
    "0 & 0 & 0 & 0 \\end{pmatrix}$\n",
    "\n",
    "\n",
    "Applying the operator $D$ to a polynomial (represented as a vector) expressed in the Legendre basis $p_L$ can be done by first expressing converting it to the canonical basis, apply the operator then back to Legendre, i.e.\n",
    "\n",
    "$D_Lp_L = L^{-1}DLp_L$, meaning $D_L = L^{-1}DL$.\n",
    "\n",
    "---"
   ]
  },
  {
   "cell_type": "code",
   "execution_count": 1,
   "id": "5c98c8c2-5898-44d6-ac42-bcf092ec32b4",
   "metadata": {},
   "outputs": [],
   "source": [
    "import numpy as np"
   ]
  },
  {
   "cell_type": "code",
   "execution_count": 20,
   "id": "f984cfbd-6b91-4f5b-a10c-8cf7940a6241",
   "metadata": {},
   "outputs": [],
   "source": [
    "D = np.array([[0, 1, 0, 0], [0, 0, 2, 0], [0, 0, 0, 3]])"
   ]
  },
  {
   "cell_type": "markdown",
   "id": "7394ce03-18e9-4359-955a-8d4a4a757e78",
   "metadata": {},
   "source": [
    "Simple numerical example: $p(x) = x + x^2$, canonical basis"
   ]
  },
  {
   "cell_type": "code",
   "execution_count": 2,
   "id": "3d89f9b8-7819-47bc-9e1d-c4f7d2e22591",
   "metadata": {},
   "outputs": [],
   "source": [
    "p = np.array([0, 1, 1, 0])"
   ]
  },
  {
   "cell_type": "code",
   "execution_count": 31,
   "id": "caced669-66b6-4a6b-8f56-dd0238b0e110",
   "metadata": {},
   "outputs": [
    {
     "data": {
      "text/plain": [
       "array([1, 2, 0])"
      ]
     },
     "execution_count": 31,
     "metadata": {},
     "output_type": "execute_result"
    }
   ],
   "source": [
    "D@p"
   ]
  },
  {
   "cell_type": "markdown",
   "id": "6582ebfb-1e3f-47d6-9831-9b811def4825",
   "metadata": {},
   "source": [
    "As expected, derivative of $p$ is $1 +2x$. \n",
    "\n",
    "In the Legendre basis, $p = \\frac{2}{3}u_2 + u_1 + \\frac{1}{3}u_0$."
   ]
  },
  {
   "cell_type": "code",
   "execution_count": 32,
   "id": "73cf6e4b-dbf7-4c50-8951-5252e5b2edbb",
   "metadata": {},
   "outputs": [],
   "source": [
    "pL = np.array([1/3, 1, 2/3, 0])"
   ]
  },
  {
   "cell_type": "code",
   "execution_count": 35,
   "id": "222c8dad-d8e8-4009-8f92-519cd273a25b",
   "metadata": {},
   "outputs": [],
   "source": [
    "DL = np.array([[0, 1, 0, 1], [0, 0, 3, 0], [0, 0, 0, 5]])"
   ]
  },
  {
   "cell_type": "code",
   "execution_count": 36,
   "id": "bf38c275-4512-44df-a683-ea4bbd5b831c",
   "metadata": {},
   "outputs": [
    {
     "data": {
      "text/plain": [
       "array([1., 2., 0.])"
      ]
     },
     "execution_count": 36,
     "metadata": {},
     "output_type": "execute_result"
    }
   ],
   "source": [
    "DL@pL"
   ]
  },
  {
   "cell_type": "markdown",
   "id": "9b9eddc2-ab74-4574-b1e3-9f8cb1af409f",
   "metadata": {},
   "source": [
    "In the Legendre basis, derivative of $p$ is $u_0 + 2u_1 = 1 + 2x$.\n",
    "\n",
    "We can achieve the same results using $L$ and its inverse:"
   ]
  },
  {
   "cell_type": "code",
   "execution_count": 23,
   "id": "bae2e17a-4de1-4d13-b097-00224a53a885",
   "metadata": {},
   "outputs": [],
   "source": [
    "L = np.array([[1, 0, -0.5, 0], [0, 1, 0, -1.5], [0, 0, 1.5, 0], [0, 0, 0, 2.5]])"
   ]
  },
  {
   "cell_type": "code",
   "execution_count": 25,
   "id": "85e66699-76a1-4b1b-bfef-229fcc228b5a",
   "metadata": {},
   "outputs": [
    {
     "data": {
      "text/plain": [
       "array([[1.        , 0.        , 0.33333333, 0.        ],\n",
       "       [0.        , 1.        , 0.        , 0.6       ],\n",
       "       [0.        , 0.        , 0.66666667, 0.        ],\n",
       "       [0.        , 0.        , 0.        , 0.4       ]])"
      ]
     },
     "execution_count": 25,
     "metadata": {},
     "output_type": "execute_result"
    }
   ],
   "source": [
    "np.linalg.inv(L)"
   ]
  },
  {
   "cell_type": "code",
   "execution_count": 26,
   "id": "e1c614a0-1808-45ad-a825-62d655019da9",
   "metadata": {},
   "outputs": [],
   "source": [
    "pL = np.linalg.inv(L)@p"
   ]
  },
  {
   "cell_type": "code",
   "execution_count": 27,
   "id": "24555e5d-741d-41c9-9c6c-d014757d78e8",
   "metadata": {},
   "outputs": [
    {
     "data": {
      "text/plain": [
       "array([0.33333333, 1.        , 0.66666667, 0.        ])"
      ]
     },
     "execution_count": 27,
     "metadata": {},
     "output_type": "execute_result"
    }
   ],
   "source": [
    "pL"
   ]
  },
  {
   "cell_type": "code",
   "execution_count": 28,
   "id": "957eed73-44ed-4601-8760-7e4b159a60c4",
   "metadata": {},
   "outputs": [
    {
     "data": {
      "text/plain": [
       "array([1, 2, 0])"
      ]
     },
     "execution_count": 28,
     "metadata": {},
     "output_type": "execute_result"
    }
   ],
   "source": [
    "D@p"
   ]
  },
  {
   "cell_type": "code",
   "execution_count": 32,
   "id": "e108ec26-a169-4f66-aab7-bf7ccf2d0bf4",
   "metadata": {},
   "outputs": [
    {
     "data": {
      "text/plain": [
       "array([[0., 1., 0., 0.],\n",
       "       [0., 0., 2., 0.],\n",
       "       [0., 0., 0., 3.],\n",
       "       [0., 0., 0., 0.]])"
      ]
     },
     "execution_count": 32,
     "metadata": {},
     "output_type": "execute_result"
    }
   ],
   "source": [
    "Dsquare = np.zeros((4,4))\n",
    "Dsquare[:3 ,:] = D\n",
    "Dsquare"
   ]
  },
  {
   "cell_type": "code",
   "execution_count": 38,
   "id": "c6e65724-c43b-4169-bb09-31d4a18a1a6f",
   "metadata": {},
   "outputs": [
    {
     "data": {
      "text/plain": [
       "array([[0., 1., 0., 1.],\n",
       "       [0., 0., 3., 0.],\n",
       "       [0., 0., 0., 5.],\n",
       "       [0., 0., 0., 0.]])"
      ]
     },
     "execution_count": 38,
     "metadata": {},
     "output_type": "execute_result"
    }
   ],
   "source": [
    "DsquareL = np.linalg.inv(L)@Dsquare@L\n",
    "DsquareL"
   ]
  },
  {
   "cell_type": "code",
   "execution_count": 39,
   "id": "2c531317-5da3-492c-a1f4-dd13162e1b11",
   "metadata": {},
   "outputs": [
    {
     "data": {
      "text/plain": [
       "array([1., 2., 0., 0.])"
      ]
     },
     "execution_count": 39,
     "metadata": {},
     "output_type": "execute_result"
    }
   ],
   "source": [
    "DsquareL@pL"
   ]
  },
  {
   "cell_type": "code",
   "execution_count": null,
   "id": "7695a76a-d7d3-492f-9e06-02b98a725c60",
   "metadata": {},
   "outputs": [],
   "source": []
  }
 ],
 "metadata": {
  "kernelspec": {
   "display_name": "Python 3 (ipykernel)",
   "language": "python",
   "name": "python3"
  },
  "language_info": {
   "codemirror_mode": {
    "name": "ipython",
    "version": 3
   },
   "file_extension": ".py",
   "mimetype": "text/x-python",
   "name": "python",
   "nbconvert_exporter": "python",
   "pygments_lexer": "ipython3",
   "version": "3.9.7"
  }
 },
 "nbformat": 4,
 "nbformat_minor": 5
}
