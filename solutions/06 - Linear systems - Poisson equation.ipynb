{
 "cells": [
  {
   "cell_type": "markdown",
   "id": "5d3d0998-a886-43d7-a4b8-fe0b90c95d57",
   "metadata": {},
   "source": [
    "# Matrix Analysis 2022 - EE312\n",
    "\n",
    "## Week 6 - Linear systems - Poisson equation\n",
    "[LTS2](https://lts2.epfl.ch)\n",
    "\n",
    "### Objectives\n",
    "Solve the Poisson equation in the discrete domain using linear systems"
   ]
  },
  {
   "cell_type": "markdown",
   "id": "b0adf8e5-4ba7-4a10-b58b-e1cc3fdc1210",
   "metadata": {},
   "source": [
    "Let $u,v \\in \\mathbb{R}^n$  represent a physical quantity $f$ and $g: \\mathbb{R} \\mapsto \\mathbb{R}$ sampled at $n$ equi-spaced locations $x_i$, i.e $u_i = f(x_i)$, $v_i = g(x_i)$. \n",
    "Let us assume that the underlying continuous object satisfies the Poisson equation: $\\frac{d^2}{dx^2} f (x)= g(x)$ with constraints $f(x_j) = y_j$ for a subset of $m$ locations $j \\in \\{i_1, \\ldots i_m \\}$. We will assume that all the $i_k$ are distincts.\n",
    "\n",
    "1. Write down a matrix equation for the discrete version of $\\frac{d^2}{dx^2} f (x)= g(x)$, using the finite-difference approximation of the derivative $\\frac{d^2}{dx^2} f  = f(x_{k+1}) - 2f(x_k) +f(x_{k-1})$. For the boundary conditions we will make the assumption that $x_{-1}=x_0$ and $x_{n-1}=x_n$ (also referred to as Dirichlet boundary conditions)\n",
    "   "
   ]
  },
  {
   "cell_type": "markdown",
   "id": "eabe07ea-1046-462a-8721-86ce3ba456a6",
   "metadata": {},
   "source": [
    "If we use zero-padding instead of the constant extension this equations satisfy $Du = v$ with \n",
    "$D=\\begin{pmatrix}\n",
    "-2 & 1 & 0  & 0& ... & 0\\\\ \n",
    "1 & -2 & 1 & 0 &... &0\\\\\n",
    "0 & 1 & -2 & 1 &... &0\\\\\n",
    "& & & ... & & \\\\\n",
    "0 & 0 & ... & 1 & -2 & 1\\\\\n",
    "0 & 0 & ... & 0 & 1 & -2\\\\\n",
    "\\end{pmatrix}$\n",
    "\n",
    "This is the laplacian matrix. \n",
    "\n",
    "$\\mbox{rank }D = n$.\n",
    "\n",
    "If we use a Dirichlet boundary condition, i.e. constant extension, we have $u_{-1}=u_0$ and $u_n = u_{n+1}$, therefore\n",
    "\n",
    "$D=\\begin{pmatrix}\n",
    "-1 & 1 & 0  & 0& ... & 0\\\\ \n",
    "1 & -2 & 1 & 0 &... &0\\\\\n",
    "0 & 1 & -2 & 1 &... &0\\\\\n",
    "& & & ... & & \\\\\n",
    "0 & 0 & ... & 1 & -2 & 1\\\\\n",
    "0 & 0 & ... & 0 & 1 & -1\\\\\n",
    "\\end{pmatrix}$\n",
    "\n",
    "In this case the rank is $n-1$ since the sum of rows/columns is 0 and if we remove one row/column they become linearly independent."
   ]
  },
  {
   "cell_type": "code",
   "execution_count": 2,
   "id": "d0b38cc0-0890-4821-a165-ee58d89e0892",
   "metadata": {},
   "outputs": [],
   "source": [
    "import numpy as np\n",
    "def lapl_matrix(N):\n",
    "    O = np.ones(N-1)\n",
    "    D = -2*np.eye(N) + np.diag(O, -1) + np.diag(O, 1)\n",
    "    D[0,0] = -1\n",
    "    D[N-1, N-1] = -1\n",
    "    return D"
   ]
  },
  {
   "cell_type": "code",
   "execution_count": 3,
   "id": "b08cdeab-5489-40a1-824b-de5ee48b980b",
   "metadata": {},
   "outputs": [
    {
     "data": {
      "text/plain": [
       "array([[-1.,  1.,  0.,  0.,  0.],\n",
       "       [ 1., -2.,  1.,  0.,  0.],\n",
       "       [ 0.,  1., -2.,  1.,  0.],\n",
       "       [ 0.,  0.,  1., -2.,  1.],\n",
       "       [ 0.,  0.,  0.,  1., -1.]])"
      ]
     },
     "execution_count": 3,
     "metadata": {},
     "output_type": "execute_result"
    }
   ],
   "source": [
    "lapl_matrix(5)"
   ]
  },
  {
   "cell_type": "code",
   "execution_count": 4,
   "id": "46e00b32-5923-4d7a-b9ac-278cb7a57c1c",
   "metadata": {},
   "outputs": [
    {
     "data": {
      "text/plain": [
       "7"
      ]
     },
     "execution_count": 4,
     "metadata": {},
     "output_type": "execute_result"
    }
   ],
   "source": [
    "np.linalg.matrix_rank(lapl_matrix(8))"
   ]
  },
  {
   "cell_type": "markdown",
   "id": "3cd51623-0627-4d1d-bbab-8a0c92ddc307",
   "metadata": {},
   "source": [
    "  ---\n",
    "  \n",
    "  \n",
    "2. Write down a matrix equation for the discrete version of $f(x_j) = y_j$. What is the rank of the corresponding matrix ?\n",
    "\n",
    "This operation can be represented by a matrix $B\\in\\mathbb{R}^{n\\times m}$ where the coefficients $b_{kp} = \\delta_{ki_p}$.\n",
    "The rank of this matrix is $m$, under the assumption that all $i_k$ are distinct, since every row has a single non-zero value.\n",
    "\n",
    "Using this matrix we can rewrite the condition $f(x_j) = y_j$ as $Bu=\\begin{pmatrix}y_0\\\\ \\vdots \\\\y_{m-1}\\end{pmatrix}$\n",
    "      "
   ]
  },
  {
   "cell_type": "code",
   "execution_count": 5,
   "id": "0ddf0894-8248-4b94-ac10-4cbb3c075e8e",
   "metadata": {},
   "outputs": [],
   "source": [
    "def b_matrix(N, idx):\n",
    "    m = len(idx)\n",
    "    B = np.zeros((m, N))\n",
    "    for p in zip(range(m), idx):\n",
    "        B[p[0], p[1]] = 1.\n",
    "    return B"
   ]
  },
  {
   "cell_type": "code",
   "execution_count": 6,
   "id": "18c8d2b1-7b45-42f8-86f3-233c6b2cd385",
   "metadata": {},
   "outputs": [
    {
     "data": {
      "text/plain": [
       "array([[0., 1., 0., 0., 0.],\n",
       "       [0., 0., 0., 1., 0.]])"
      ]
     },
     "execution_count": 6,
     "metadata": {},
     "output_type": "execute_result"
    }
   ],
   "source": [
    "b_matrix(5, [1, 3])"
   ]
  },
  {
   "cell_type": "markdown",
   "id": "9a2e49a6-44e9-494b-92f7-78eebc83ff79",
   "metadata": {},
   "source": [
    "  ---\n",
    "  \n",
    "3. Write down a matrix equation for the full problem. Discuss the rank of the matrix and deduce a way to numerically solve the linear system. Implement it."
   ]
  },
  {
   "cell_type": "markdown",
   "id": "96fbd33e-75ca-470e-97b5-bdad2fde2a00",
   "metadata": {},
   "source": [
    "Let us use the matrix $C=\\begin{pmatrix}D\\\\B\\end{pmatrix}$.\n",
    "\n",
    "The following holds $Cu = z$, with $z=\\begin{pmatrix}v_0\\\\v_1\\\\...\\\\v_{n-1}\\\\y_0\\\\y_1\\\\...\\\\y_{m-1}\\end{pmatrix}$.\n",
    "\n",
    "Let us suppose there exist non zero $\\alpha_i$ s.t.\n",
    "\n",
    "$\\sum_{i=0}^{n-1} \\alpha_i C_i = 0$, where $C_i$ is the $i$-th column of $C$.\n",
    "\n",
    "Looking at the bottom part of $C$, we must have $\\alpha_i=0, i\\in\\{i_1,...,i_m\\}$. The $\\alpha_i$ are can only be non-zero when the lower part of the vector only has 0s. Given a subset of columns of $D$ will have at least one row with a single non zero coefficient  making the associated $\\alpha_i = 0$, which then propagates to the rest (since columns have disjoint support), the rank of $C$ is $n$.\n",
    "\n",
    "We can get the solution using $C^+$."
   ]
  },
  {
   "cell_type": "code",
   "execution_count": 7,
   "id": "d498984c-b92e-4151-819f-2b99a28d4084",
   "metadata": {},
   "outputs": [],
   "source": [
    "def c_matrix(D, B):\n",
    "    sd = D.shape\n",
    "    sb = B. shape\n",
    "    C = np.zeros((sd[0]+sb[0], sd[1]))\n",
    "    C[:sd[0], :] = D\n",
    "    C[sd[0]:, :] = B\n",
    "    return C"
   ]
  },
  {
   "cell_type": "code",
   "execution_count": 9,
   "id": "0daca163-cc28-4a35-b30c-e30ea3c3943d",
   "metadata": {},
   "outputs": [],
   "source": [
    "C=c_matrix(lapl_matrix(10), b_matrix(10, [2, 4, 6, 8]))"
   ]
  },
  {
   "cell_type": "markdown",
   "id": "31295a00-101a-4c50-838e-b24526a3d517",
   "metadata": {},
   "source": [
    "The rank of $C$ is $n$, the columns of $C$ are independent, therefore the matrix is 1-1. We can use the left pseudo inverse\n",
    "\n",
    "$C^+=(C^TC)^{-1}C^T$"
   ]
  },
  {
   "cell_type": "code",
   "execution_count": 10,
   "id": "74c25db2-03fc-4721-bde2-90d5d5742bf7",
   "metadata": {},
   "outputs": [],
   "source": [
    "Cinv = np.linalg.inv(C.T@C)@C.T"
   ]
  },
  {
   "cell_type": "markdown",
   "id": "7fa77114-4a00-4b09-9a7d-67c7652ca993",
   "metadata": {},
   "source": [
    "We achieve the same result whether we use the explicit formula or Numpy's `pinv`.\n",
    "\n",
    "---\n",
    "\n",
    "4. Let us now consider the solutions of the particular case $g(x) = 0, \\forall x\\in\\mathbb{R}$. What are the analytical solutions that would solve Poisson equation ?\n",
    "\n",
    "The analytical solutions are linear functions, i.e. $f(x)=ax+b$."
   ]
  },
  {
   "cell_type": "code",
   "execution_count": 11,
   "id": "0324b376-54e1-4112-b3b1-463162660b08",
   "metadata": {},
   "outputs": [],
   "source": [
    "def solve_poisson(N, v, idx_list, u): \n",
    "    D = lapl_matrix(N)\n",
    "    B = b_matrix(N, idx_list)\n",
    "    C = c_matrix(D, B)\n",
    "    z = np.zeros(C.shape[0])\n",
    "    z[:N] = v\n",
    "    for p in zip(range(len(u)), u):\n",
    "        z[N+p[0]] = p[1]\n",
    "    Cinv = np.linalg.pinv(C)\n",
    "    #or \n",
    "    # Cinv = np.linalg.inv(C.T@C)@C.T\n",
    "    return Cinv@z"
   ]
  },
  {
   "cell_type": "code",
   "execution_count": 12,
   "id": "ad076b56-9825-4867-b8cb-ef0ef492f6d6",
   "metadata": {},
   "outputs": [],
   "source": [
    "# pick values on a linear function\n",
    "sol = solve_poisson(50, np.zeros(50), [10, 20, 30, 40], [10, 20, 30, 40])"
   ]
  },
  {
   "cell_type": "code",
   "execution_count": 14,
   "id": "7fb385c1-1892-4f8d-9a84-c518419019fb",
   "metadata": {},
   "outputs": [],
   "source": [
    "import matplotlib.pyplot as plt"
   ]
  },
  {
   "cell_type": "code",
   "execution_count": 15,
   "id": "8e701a11-1444-404a-85f8-0d130bd45803",
   "metadata": {},
   "outputs": [
    {
     "data": {
      "text/plain": [
       "[<matplotlib.lines.Line2D at 0x7fae47b58ee0>]"
      ]
     },
     "execution_count": 15,
     "metadata": {},
     "output_type": "execute_result"
    },
    {
     "data": {
      "image/png": "[encoded data removed]",
      "text/plain": [
       "<Figure size 432x288 with 1 Axes>"
      ]
     },
     "metadata": {
      "needs_background": "light"
     },
     "output_type": "display_data"
    }
   ],
   "source": [
    "plt.plot(sol)"
   ]
  },
  {
   "cell_type": "code",
   "execution_count": 16,
   "id": "1430be6a-ba2f-4435-b1e8-d28dfb855e6b",
   "metadata": {},
   "outputs": [
    {
     "name": "stdout",
     "output_type": "stream",
     "text": [
      "10.009860690220727 19.985272670831275 30.01543978679425 39.989426852153734\n"
     ]
    }
   ],
   "source": [
    "print(sol[10], sol[20], sol[30], sol[40])"
   ]
  },
  {
   "cell_type": "markdown",
   "id": "f6dcf390-4b84-4156-8baf-7dfccc18eec6",
   "metadata": {},
   "source": [
    "We obtain a solution that is linear except near it boundaries. The aspect of the solution near the boundaries is due to the Dirichlet conditions we impose (i.e. solution should be constant outside the interval displayed). The values we had set as constraints are matched closely."
   ]
  },
  {
   "cell_type": "code",
   "execution_count": 28,
   "id": "2a2c4da7-ad73-436d-9101-3c1c8ab25b73",
   "metadata": {},
   "outputs": [
    {
     "data": {
      "text/plain": [
       "[<matplotlib.lines.Line2D at 0x7fae482e1d30>]"
      ]
     },
     "execution_count": 28,
     "metadata": {},
     "output_type": "execute_result"
    },
    {
     "data": {
      "image/png": "[encoded data removed]",
      "text/plain": [
       "<Figure size 432x288 with 1 Axes>"
      ]
     },
     "metadata": {
      "needs_background": "light"
     },
     "output_type": "display_data"
    }
   ],
   "source": [
    "sol2 = solve_poisson(50, np.zeros(50), [10, 20, 30, 40], [1, 1, -1, -1])\n",
    "plt.plot(sol2)"
   ]
  },
  {
   "cell_type": "markdown",
   "id": "1e43e4e7-bdc7-4655-9cb5-878dfa86a8d7",
   "metadata": {},
   "source": [
    "If we deliberately choose $f$ to be outside of the solution space, we obtain a poor approximation and our constraints are not met (which is expected).\n",
    "\n",
    "---\n",
    "\n",
    "5. Let us now consider the application of the Poisson equation to electrostatic. Knowing a distribution of electric charges, we can solve it to compute the electric potential. The distribution of electric charges will be very simple, consisting of two punctual charges\n"
   ]
  },
  {
   "cell_type": "code",
   "execution_count": 29,
   "id": "568472b5-3efe-476e-9d98-42218b2af0e7",
   "metadata": {},
   "outputs": [
    {
     "data": {
      "text/plain": [
       "[<matplotlib.lines.Line2D at 0x7fae484278e0>]"
      ]
     },
     "execution_count": 29,
     "metadata": {},
     "output_type": "execute_result"
    },
    {
     "data": {
      "image/png": "[encoded data removed]",
      "text/plain": [
       "<Figure size 432x288 with 1 Axes>"
      ]
     },
     "metadata": {
      "needs_background": "light"
     },
     "output_type": "display_data"
    }
   ],
   "source": [
    "N = 50\n",
    "v3 = np.zeros(N)\n",
    "v3[10] = 1\n",
    "v3[40] = 1\n",
    "plt.plot(v3)"
   ]
  },
  {
   "cell_type": "markdown",
   "id": "d80a147c-1e7c-439b-a196-af7f689a5afb",
   "metadata": {},
   "source": [
    "The analytical solution is a piecewise linear solution. Integrating once the 2-peaked will lead to picewise constant function, and piecewise linear if we integrate twice. \n",
    "\n",
    "If you use the constraints we impose for the numerical example you can compute the theoretical solution of the problem satisfying the constraints (that was not asked in the question so the above answer was sufficient). If you impose the solution to be constant between 10 and 40, it means its derivative is 0 in this interval. Below 10 the derivative is then -1 and above 40 the derivative is 1. "
   ]
  },
  {
   "cell_type": "code",
   "execution_count": 30,
   "id": "6c869678-8d30-4759-8f1d-a79583403b61",
   "metadata": {},
   "outputs": [
    {
     "data": {
      "text/plain": [
       "[<matplotlib.lines.Line2D at 0x7fae484b8970>]"
      ]
     },
     "execution_count": 30,
     "metadata": {},
     "output_type": "execute_result"
    },
    {
     "data": {
      "image/png": "[encoded data removed]",
      "text/plain": [
       "<Figure size 432x288 with 1 Axes>"
      ]
     },
     "metadata": {
      "needs_background": "light"
     },
     "output_type": "display_data"
    }
   ],
   "source": [
    "d=np.zeros(50)\n",
    "d[:10]=-1\n",
    "d[40:]=1\n",
    "plt.plot(d)"
   ]
  },
  {
   "cell_type": "markdown",
   "id": "d2b60499-7f2a-4c3b-99e1-d0bc477d7999",
   "metadata": {},
   "source": [
    "If we solve $-x+a = 1$ for $x=10$ and $x+b=1$ for $x = 40$, the analytical solution that satisfies the constraint is:\n",
    "- $f(x) = -x+11, x<10$\n",
    "- $f(x) = 1, 10\\le x\\le 40$\n",
    "- $f(x) = x - 39, x>40$"
   ]
  },
  {
   "cell_type": "code",
   "execution_count": 22,
   "id": "b8705f59-e075-4598-82aa-abc829bb0a21",
   "metadata": {},
   "outputs": [
    {
     "data": {
      "text/plain": [
       "[<matplotlib.lines.Line2D at 0x7fae481674c0>]"
      ]
     },
     "execution_count": 22,
     "metadata": {},
     "output_type": "execute_result"
    },
    {
     "data": {
      "image/png": "[encoded data removed]",
      "text/plain": [
       "<Figure size 432x288 with 1 Axes>"
      ]
     },
     "metadata": {
      "needs_background": "light"
     },
     "output_type": "display_data"
    }
   ],
   "source": [
    "x1 = np.arange(0, 11)\n",
    "x2 = np.arange(10, 41)\n",
    "x3 = np.arange(40, 51)\n",
    "plt.plot(x1, -x1+11)\n",
    "plt.plot(x2, np.ones(x2.shape))\n",
    "plt.plot(x3, x3-39)"
   ]
  },
  {
   "cell_type": "code",
   "execution_count": 34,
   "id": "dfffee36-4ed0-4214-8e0f-480649d8f333",
   "metadata": {},
   "outputs": [
    {
     "data": {
      "text/plain": [
       "(50,)"
      ]
     },
     "execution_count": 34,
     "metadata": {},
     "output_type": "execute_result"
    }
   ],
   "source": [
    "v3.shape"
   ]
  },
  {
   "cell_type": "code",
   "execution_count": 35,
   "id": "8789fab2-7fa5-4fa0-a8fb-02550c7534c7",
   "metadata": {},
   "outputs": [
    {
     "data": {
      "text/plain": [
       "[<matplotlib.lines.Line2D at 0x7fae4860a9d0>]"
      ]
     },
     "execution_count": 35,
     "metadata": {},
     "output_type": "execute_result"
    },
    {
     "data": {
      "image/png": "[encoded data removed]",
      "text/plain": [
       "<Figure size 432x288 with 1 Axes>"
      ]
     },
     "metadata": {
      "needs_background": "light"
     },
     "output_type": "display_data"
    }
   ],
   "source": [
    "sol3 = solve_poisson(50, v3, [10, 20, 30, 40], [1, 1, 1, 1])\n",
    "plt.plot(sol3)"
   ]
  },
  {
   "cell_type": "code",
   "execution_count": 37,
   "id": "e90c6c0f-2d6c-42d9-9651-eab0f5d11b6d",
   "metadata": {},
   "outputs": [
    {
     "data": {
      "text/plain": [
       "[<matplotlib.lines.Line2D at 0x7fae486eaf70>]"
      ]
     },
     "execution_count": 37,
     "metadata": {},
     "output_type": "execute_result"
    },
    {
     "data": {
      "image/png": "[encoded data removed]",
      "text/plain": [
       "<Figure size 432x288 with 1 Axes>"
      ]
     },
     "metadata": {
      "needs_background": "light"
     },
     "output_type": "display_data"
    }
   ],
   "source": [
    "plt.plot(lapl_matrix(50)@sol3[:50]) # check the 2nd derivative of the solution computed"
   ]
  },
  {
   "cell_type": "markdown",
   "id": "16ecd995-0ac9-4f55-94a1-54f3170e9899",
   "metadata": {},
   "source": [
    "We can see the solution computed is acceptable as its second derivative matches the original distribution (it is not fully constant between the peaks but close enough). The Dirichlet boundary conditions are once again interfering at $x=0$ and $x=50$, and the derivative not being continuous also has an impact on the constant part."
   ]
  },
  {
   "cell_type": "code",
   "execution_count": null,
   "id": "0affaf3c-7306-4690-8abf-8b06c134d0e3",
   "metadata": {},
   "outputs": [],
   "source": []
  }
 ],
 "metadata": {
  "kernelspec": {
   "display_name": "Python 3 (ipykernel)",
   "language": "python",
   "name": "python3"
  },
  "language_info": {
   "codemirror_mode": {
    "name": "ipython",
    "version": 3
   },
   "file_extension": ".py",
   "mimetype": "text/x-python",
   "name": "python",
   "nbconvert_exporter": "python",
   "pygments_lexer": "ipython3",
   "version": "3.9.7"
  }
 },
 "nbformat": 4,
 "nbformat_minor": 5
}
