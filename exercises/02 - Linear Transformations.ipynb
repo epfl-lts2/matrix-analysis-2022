{
 "cells": [
  {
   "cell_type": "markdown",
   "id": "bc0eba74",
   "metadata": {},
   "source": [
    "# Matrix Analysis 2022 - EE312\n",
    "\n",
    "## Week 2 - Linear transformations\n",
    "[LTS2](https://lts2.epfl.ch)\n",
    "\n",
    "\n",
    "The first week notebook (introduction to Python, Numpy and Matplotlib) can be used as a help.\n",
    "\n",
    "## Important\n",
    "You need to submit *individually* your answers on moodle before the next exercise session (i.e. Monday or Friday depending if you are BA4/BA6). For the theoretical part you can either fill the notebook or write it on a separate sheet (if you are not comfortable with Markdown/TeX) and upload a scanned version. \n",
    "\n",
    "## Objective\n",
    "\n",
    "The end goal is to understand purely algebraic, matrix based, view of linear filters.\n",
    "\n",
    "## Exercise\n",
    "1. Prove that any set of orthogonal vectors $v_i \\in \\mathbb{C}^N, \\, i=1, \\ldots , M \\leq N$ such that $v_i^H v_j = C \\delta_{i,j}$ is linearly independent (where $C$ is some constant).\n"
   ]
  },
  {
   "cell_type": "markdown",
   "id": "e5454c70",
   "metadata": {},
   "source": []
  },
  {
   "cell_type": "markdown",
   "id": "749b908d",
   "metadata": {},
   "source": [
    "2. Let $v_k \\in \\mathbb{C}^N$ be such that $v_k[n] = e^{j 2 \\pi \\frac{kn}{N}}$, for $k,n = 0, \\ldots , N-1$. Prove that these vectors are mutually orthogonal, hence linearly independent. Compute the norm of $v_k$."
   ]
  },
  {
   "cell_type": "markdown",
   "id": "8be2253c",
   "metadata": {},
   "source": []
  },
  {
   "cell_type": "markdown",
   "id": "5da459b6",
   "metadata": {},
   "source": [
    "3. Set up the $N\\times N$ matrix $W[k,n] = v_k[n]$. Let the \"digital signal\" $x$ be the vector $x[n] = \\cos{2\\pi \\frac{w n}{N}}$ for some $w \\in \\{0, \\ldots N-1\\}$. \n",
    "\n",
    "Compute (numerically) $W x$ for $w=0$ and other values of $w$ (Tip: use small values). Visualize both $x$ and $W x$ (be careful with the type of the elements in $Wx$). What is the parameter $w$ and what happens when $w$ gets close to $N/2$ ? "
   ]
  },
  {
   "cell_type": "code",
   "execution_count": null,
   "id": "869868a7",
   "metadata": {},
   "outputs": [],
   "source": [
    "import numpy as np\n",
    "import matplotlib.pyplot as plt\n",
    "N = 100 # you can change this\n",
    "W = # insert your code here. \n",
    "x = # insert your code here\n",
    "# ..."
   ]
  },
  {
   "cell_type": "markdown",
   "id": "f827dc3f",
   "metadata": {},
   "source": [
    "4. Compute the inverse matrix $W^{-1}$ (using its properties) ? Build a matrix $\\hat{W}$ that is a normalized version of $W$."
   ]
  },
  {
   "cell_type": "code",
   "execution_count": null,
   "id": "76125d29",
   "metadata": {},
   "outputs": [],
   "source": [
    "W_inv = # your code here\n",
    "W_hat = # your code here"
   ]
  },
  {
   "cell_type": "markdown",
   "id": "e5fc5720",
   "metadata": {},
   "source": [
    "5. Using $\\hat{W}$ and its inverse, write a functions that cuts off frequencies specified by a vector of booleans ?\n",
    "#### Note:\n",
    "\n",
    "When multiplying an input signal $x$ by the matrix $\\hat{W}$, the results of such multiplication is the **Fourier transform** of the input signal, i.e. the representation of the signal in the frequency domain. We can choose which frequency of the signal to keep or cut off thanks to a multiplication with an appropriate vector. Finally, an adequate use of the inverse matrix $\\hat{W}^{-1}$ allows to get back the filtered signal in the temporal domain."
   ]
  },
  {
   "cell_type": "code",
   "execution_count": null,
   "id": "4297d027-603f-4444-a2db-dafad508cd90",
   "metadata": {},
   "outputs": [],
   "source": [
    "def filter(W, x, filt):\n",
    "    # your code here\n",
    "    return None"
   ]
  },
  {
   "cell_type": "markdown",
   "id": "4a8064b2-e966-4b9a-a3d1-c76cd82f8b9c",
   "metadata": {},
   "source": [
    "Let us use an input signal made of the superposition of two sines:"
   ]
  },
  {
   "cell_type": "code",
   "execution_count": null,
   "id": "d097770c-b619-4f9d-ac35-cbac65bc4b7a",
   "metadata": {},
   "outputs": [],
   "source": [
    "N = 200 # you can change the parameters\n",
    "w1 = 10\n",
    "w2 = 30\n",
    "xmix = np.cos(2*np.pi*w1*k/N) + 0.5*np.sin(2*np.pi*w2*k/N)"
   ]
  },
  {
   "cell_type": "markdown",
   "id": "db32473b-aedc-4da2-a626-d0739933ad4e",
   "metadata": {},
   "source": [
    "Visualize the signal and its Fourier transform. Using the function you wrote, try to isolate one of the frequency components."
   ]
  },
  {
   "cell_type": "code",
   "execution_count": null,
   "id": "8c881204-a26f-433d-8c6f-b90e75226a94",
   "metadata": {},
   "outputs": [],
   "source": [
    "xmix_single_freq = # your code here\n",
    "# verify by plotting\n",
    "plt.plot(xmix_single_freq)"
   ]
  },
  {
   "cell_type": "markdown",
   "id": "74e0e933-563b-4e0f-a787-36424ef3b946",
   "metadata": {},
   "source": [
    "**Bonus**: try your to separate frequencies with a real audio signal (and listen to the result)"
   ]
  },
  {
   "cell_type": "code",
   "execution_count": null,
   "id": "2e1cbf44",
   "metadata": {},
   "outputs": [],
   "source": [
    "import IPython.display as ipd"
   ]
  },
  {
   "cell_type": "code",
   "execution_count": null,
   "id": "62d115fd-d835-4107-8633-16879f300cc8",
   "metadata": {},
   "outputs": [],
   "source": [
    "sr = 4000 # sample rate\n",
    "T = 1.0    # seconds\n",
    "t = np.linspace(0, T, int(T*sr), endpoint=False) # time variable\n",
    "x = 0.5*np.sin(2*np.pi*440*t) + 0.25*np.cos(2*np.pi*587*t) # roughly A and C#\n"
   ]
  },
  {
   "cell_type": "code",
   "execution_count": null,
   "id": "d028fcaa-6ba4-4649-85f5-ba3cf1f85d86",
   "metadata": {},
   "outputs": [],
   "source": [
    "ipd.Audio(x, rate=sr) # listen to the input. Do not overuse during the exercise session and use a low volume :)"
   ]
  },
  {
   "cell_type": "code",
   "execution_count": null,
   "id": "f7a0b242-a160-40b1-9fe6-5b260aeb5592",
   "metadata": {},
   "outputs": [],
   "source": [
    "x_sep = # your code here"
   ]
  },
  {
   "cell_type": "code",
   "execution_count": null,
   "id": "91e2e536-0524-4bd4-bab7-1a0ed4e7823d",
   "metadata": {},
   "outputs": [],
   "source": [
    "ipd.Audio(x_sep, rate=sr)"
   ]
  }
 ],
 "metadata": {
  "kernelspec": {
   "display_name": "Python 3 (ipykernel)",
   "language": "python",
   "name": "python3"
  },
  "language_info": {
   "codemirror_mode": {
    "name": "ipython",
    "version": 3
   },
   "file_extension": ".py",
   "mimetype": "text/x-python",
   "name": "python",
   "nbconvert_exporter": "python",
   "pygments_lexer": "ipython3",
   "version": "3.7.11"
  }
 },
 "nbformat": 4,
 "nbformat_minor": 5
}
