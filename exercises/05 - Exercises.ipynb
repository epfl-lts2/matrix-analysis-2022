{
 "cells": [
  {
   "cell_type": "markdown",
   "id": "3d858cf2-15ff-435b-97a9-0283361d3d0d",
   "metadata": {},
   "source": [
    "# Matrix Analysis 2022 - EE312\n",
    "\n",
    "## Week 5 - Exercises \n",
    "[LTS2](https://lts2.epfl.ch)\n",
    "\n",
    "### Objectives\n",
    "This weeks exercises will use left, right and pseudo inverse. We will also perform orthogonalization using a custom scalar product."
   ]
  },
  {
   "cell_type": "markdown",
   "id": "be5e9feb-eab7-42d0-931b-cc7511b12b8e",
   "metadata": {},
   "source": [
    "1. Let $A = (1,2) \\in \\mathbb{R}^{1 \\times 2}$ show it is onto and compute $A_R^{-1}$.\n",
    "\n",
    "---"
   ]
  },
  {
   "cell_type": "markdown",
   "id": "3348da6d-b21a-4e49-8c75-c5d9b49e28f3",
   "metadata": {},
   "source": [
    "2. Let $A = \\begin{pmatrix}1\\\\2\\end{pmatrix} \\in \\mathbb{R}^{2 \\times 1}$ show it is 1-1 and compute $A_L^{-1}$.\n",
    "\n",
    "---"
   ]
  },
  {
   "cell_type": "markdown",
   "id": "37262dec-d220-47b8-87f4-3af8c306f3a2",
   "metadata": {},
   "source": [
    "3. Let $A = \\begin{pmatrix}a_1, a_:2, ..., a_n\\end{pmatrix}\\in \\mathbb{R}^{1\\times n}$ s.t. $AA^T$ is non-zero. Prove that $A^+ = (AA^T)^{-1}A^T$.\n",
    "\n",
    "---"
   ]
  },
  {
   "cell_type": "markdown",
   "id": "a771edda-bb38-45f1-902c-df33a4035e27",
   "metadata": {},
   "source": [
    "4. Let $\\mathcal{P}^n$ be the real vector space of order $n$ polynomials of the form $p(x) = \\sum_{i=0}^n \\alpha_i x^i$. Verify that the following is a scalar product over $\\mathcal{P}^n$ : $\\langle p_1, p_2\\rangle = \\int_{-1}^{+1} dx \\, p_1(x) p_2(x)$.\n",
    "\n",
    "Reminder: a valid scalar product has the following properties\n",
    "- Commutativity $\\langle p_1, p_2\\rangle = \\langle p_2, p_1\\rangle$\n",
    "- Positivity, $\\langle p, p\\rangle \\geq 0$ and $\\langle p, p\\rangle = 0 \\Rightarrow p=0$\n",
    "- Bilinear $\\langle (\\alpha p_1+\\beta p_2), p_3\\rangle = \\alpha\\langle p_1, p_3\\rangle + \\beta\\langle p_2, p_3\\rangle, \\forall \\alpha, \\beta \\in \\mathbb{R}$\n",
    "\n",
    "---"
   ]
  },
  {
   "cell_type": "markdown",
   "id": "3f6ac33a-2e27-4b8a-9ae8-ad357250d1f6",
   "metadata": {},
   "source": [
    "5. Using this scalar product and the Gram-Schmidt orthogonalization process, compute an orthonogonal basis of $\\mathcal{P}^n$. (these are the celebrated Legendre polynomials).\n",
    "\n",
    "Reminder: \n",
    "- The projection operator of a vector $v$ on another $u$ is given by $P_u v = \\frac{\\langle u,v \\rangle}{\\langle u,u \\rangle}u$.\n",
    "- Gram-Schmidt orthogonalization process of a basis $(v_0, v_1, ..., v_{n-1})$ produces an orthogonal basis $(u_0, u_1, ..., u_{n-1})$ as follows:\n",
    "\n",
    "$u_0 = v_0$\n",
    "\n",
    "$u_1 = v_1 - P_{u_0}v_1$\n",
    "\n",
    "$u_2 = v_2 - P_{u_1}v_2 - P_{u_0}v_2$\n",
    "\n",
    "...\n",
    "\n",
    "$u_k = v_k - \\sum_{j=0}^{k-1} P_{u_j}v_k$\n",
    "\n",
    "Compute the first 4 orthogonal basis vectors using Gram-Schmidt process. By convention, the Legendre polynomials are scaled s.t. $p(1)=1$.\n",
    "\n",
    "---"
   ]
  },
  {
   "cell_type": "markdown",
   "id": "7f0d16c9-bf26-4f95-9015-68c0bbe9717d",
   "metadata": {},
   "source": [
    "6. Let $D: \\mathcal{P}^n \\rightarrow \\mathcal{P}^{n-1}$ be the linear application defined by the derivative $D(p(x)) = p'(x)$. Compute the matrix representation of $D$ using an orthogonal basis (use the result of previous question) of $\\mathcal{P}^n$ and $\\mathcal{P}^{n-1}$. Is $D$ onto ? Is D 1-1?\n",
    "\n",
    "---"
   ]
  },
  {
   "cell_type": "code",
   "execution_count": null,
   "id": "be2a0112-74b8-4a49-ada2-42206b365bf2",
   "metadata": {},
   "outputs": [],
   "source": []
  }
 ],
 "metadata": {
  "kernelspec": {
   "display_name": "Python 3 (ipykernel)",
   "language": "python",
   "name": "python3"
  },
  "language_info": {
   "codemirror_mode": {
    "name": "ipython",
    "version": 3
   },
   "file_extension": ".py",
   "mimetype": "text/x-python",
   "name": "python",
   "nbconvert_exporter": "python",
   "pygments_lexer": "ipython3",
   "version": "3.9.7"
  }
 },
 "nbformat": 4,
 "nbformat_minor": 5
}
