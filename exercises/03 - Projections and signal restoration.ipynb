{
 "cells": [
  {
   "cell_type": "markdown",
   "id": "1a1d32ed-1004-4172-92b6-08b6e605a8aa",
   "metadata": {},
   "source": [
    "# Matrix Analysis 2022 - EE312\n",
    "\n",
    "## Week 3 - Signal restoration using projections\n",
    "[LTS2](https://lts2.epfl.ch)"
   ]
  },
  {
   "cell_type": "markdown",
   "id": "fb42154f-8832-4960-9fee-3372b473ef69",
   "metadata": {},
   "source": [
    "Let us consider a signal with $N$ elements, i.e. a vector in $\\mathbb{R}^N$. \n",
    "Under our observations conditions, we can only recover partially the signal's values, the other remain unknown, i.e. we know that:\n",
    "\n",
    "$x[k] = x_k$ for $k\\in E = \\{e_0, e_1, \\dots,e_{M-1}\\}$, with $E\\in\\mathbb{N}^M$ and $e_i\\neq e_j \\forall i\\neq j$ (i.e. each known index is unique).\n",
    "\n",
    "We also know that the signal is contained within lower frequencies of the spectrum. This can be expressed using the (normalized) Fourier matrix you have constructed last week $\\hat{W}$.\n",
    "\n",
    "Let $X = \\hat{W}x$, $X$ is the *discrete Fourier transform* of $x$. The frequency condition can then be rewritten as \n",
    "\n",
    "$X[k] = 0$ for $w_c < k\\leq N-w_c$.\n",
    "\n",
    "In this notebook, we will try to reconstruct the signal by projecting its observation successively on the Fourier subspace defined above, then back to its original domain (with the constraint regarding its values), then on the Fourier domain, etc. This is a simplified version of a more general method called [\"Projection onto convex sets\" (POCS)](https://en.wikipedia.org/wiki/Projections_onto_convex_sets). The method is illustrated by the figure below (of course you do not project on lines but on spaces having larger dimension).\n",
    "\n",
    "![POCS](images/pocs.png \"POCS\")\n",
    "\n",
    "### 1. Low-pass filter\n",
    "Express the filtering operation by building the appropriate $N\\times N$ matrix $P$ and check that it works using the following example."
   ]
  },
  {
   "cell_type": "code",
   "execution_count": null,
   "id": "d238cbc9-055f-4d55-a6ae-29d83881e2f5",
   "metadata": {},
   "outputs": [],
   "source": [
    "import numpy as np\n",
    "import matplotlib.pyplot as plt\n",
    "N = 100\n",
    "w = 10 # cut-off frequency\n",
    "k = np.arange(0, N)\n",
    "w1 = 3\n",
    "w2 = 7\n",
    "w3 = 12\n",
    "\n",
    "# generate simple signals\n",
    "x1 = np.cos(2*w1*np.pi*k/N) + np.sin(2*w2*np.pi*k/N)\n",
    "x2 = np.sin(2*w1*np.pi*k/N) + np.cos(2*w3*np.pi*k/N)"
   ]
  },
  {
   "cell_type": "code",
   "execution_count": null,
   "id": "59a703e8-f351-4a02-8278-12560a67b023",
   "metadata": {},
   "outputs": [],
   "source": [
    "# visualize the base signals\n",
    "plt.plot(x1)\n",
    "plt.plot(x2, 'r')"
   ]
  },
  {
   "cell_type": "code",
   "execution_count": null,
   "id": "62fae5a8-f3c4-477b-a53f-a0106730b842",
   "metadata": {},
   "outputs": [],
   "source": [
    "W_hat = # insert the normalized Fourier matrix you implemented in the previous exercise session"
   ]
  },
  {
   "cell_type": "code",
   "execution_count": null,
   "id": "aeed4067-1130-4e6c-9fbd-ab8d0a3a41c0",
   "metadata": {},
   "outputs": [],
   "source": [
    "# Build the matrix P\n",
    "P = # Your code here. "
   ]
  },
  {
   "cell_type": "code",
   "execution_count": null,
   "id": "85787e70-1427-4860-8a7b-94d20432bd76",
   "metadata": {},
   "outputs": [],
   "source": [
    "# Try the filtering on the test signals and make sure it behaves appropriately\n",
    "X1 = W_hat@x1\n",
    "X2 = W_hat@x2\n",
    "x1_f = # filtered output\n",
    "x2_f = # filtered output"
   ]
  },
  {
   "cell_type": "markdown",
   "id": "700eb2e2-3137-4916-a829-9e8e2ba8c6e5",
   "metadata": {},
   "source": [
    "NB: Make sure the filtered output is **real** (or its imaginary part should be smaller than $10^{-12}$)."
   ]
  },
  {
   "cell_type": "code",
   "execution_count": null,
   "id": "e960728d-c2c0-4b9d-ab73-3db971f559a1",
   "metadata": {},
   "outputs": [],
   "source": [
    "# Plot the filtered signals\n",
    "# x1_f should still contain both frequencies, x2_f only one\n",
    "plt.plot(x1_f)\n",
    "plt.plot(x2_f, 'r')"
   ]
  },
  {
   "cell_type": "markdown",
   "id": "c34b8fc7-8a51-4fe5-a6ab-1cc27da2cd1e",
   "metadata": {},
   "source": [
    "Prove that $P$ is a projection."
   ]
  },
  {
   "cell_type": "markdown",
   "id": "b34f3ad6-27e7-4ef9-9c37-d5e3c4142909",
   "metadata": {},
   "source": []
  },
  {
   "cell_type": "markdown",
   "id": "b1b251ee-5112-4896-ae4d-45f6a0830dcc",
   "metadata": {},
   "source": [
    "### 2. Signal extension\n",
    "\n",
    "In order to express the condition on $x[k]$ as a pure matrix operation we need to make use of an extension of the input signal and design a slightly different Fourier transform matrix to use properly those extended signals. \n",
    "\n",
    "Let us denote by $x_E$ the vector from $\\mathbb{R}^m$ containing the known values of $x$, i.e. the $x_k$ for $k\\in E$.\n",
    "For each vector $y$ in $\\mathbb{R}^N$ we define its extension as $\\tilde{y} = \\begin{pmatrix}y \\\\ x_E\\end{pmatrix}$. This notation will remain throughout the notebook, i.e. a vector with a tilde denotes its extension made by adding the $x_E$ values at the end.\n",
    "\n",
    "Let us define the matrix $B_E$ and $y=B_E x$, s.t. $y[k] = 0$ if $k\\in E$ and $y[k] = x[k]$ otherwise. \n",
    "\n",
    "Write a function that returns its extended version $\\tilde{B_E}$ s.t. $\\tilde{y}=\\tilde{B_E}\\tilde{x}$, for any $x\\in\\mathbb{R}^N$. $\\tilde{B_E}$ is a square matrix of size $N+M$."
   ]
  },
  {
   "cell_type": "code",
   "execution_count": null,
   "id": "dae1c4aa-c6ce-4f35-b309-aa6dd09e9abf",
   "metadata": {},
   "outputs": [],
   "source": [
    "# E will be any list of indices, e.g. for N=5, a suitable E could be [1, 3]\n",
    "def Bt_E(N, M, E):\n",
    "    # your code here\n",
    "    return None"
   ]
  },
  {
   "cell_type": "markdown",
   "id": "853c1a3b-9ed9-461c-86f9-12992e07337d",
   "metadata": {},
   "source": [
    "Let us know design $C_E$ as an operator from $\\mathbb{R}^{N+M} \\rightarrow \\mathbb{R}^{N+M}$ such that when applied to any extended vector $\\tilde{z}$ s.t. $\\tilde{z}[k] = 0, \\forall k\\in E$ as input (i.e. for instance the output of $\\tilde{B}_E$), it generates a vector $\\tilde{z}_R$ s.t.:\n",
    "\n",
    "$\\tilde{z}_R[k] = \\left\\{\\begin{matrix} x_k \\mbox{ if } k\\in E \\\\ \\tilde{z}[k] \\mbox{ otherwise} \\end{matrix}\\right.$\n",
    "\n",
    "Write a function that generates $C_E$. "
   ]
  },
  {
   "cell_type": "code",
   "execution_count": null,
   "id": "932ae153-f336-4b0f-b7c0-774c02ccaad1",
   "metadata": {},
   "outputs": [],
   "source": [
    "# E will be any list of indices, e.g. for N=5, a suitable E could be [1, 3]\n",
    "def C_E(N, M, E):\n",
    "    # your code here\n",
    "    return None"
   ]
  },
  {
   "cell_type": "markdown",
   "id": "0e57be3f-1c44-445a-86ad-07e20fbcd1d2",
   "metadata": {},
   "source": [
    "What is the effect of $D_E = C_E \\tilde{B}_E$ on an extended signal $\\tilde{x}$ ? "
   ]
  },
  {
   "cell_type": "markdown",
   "id": "dc528ca4-714f-4699-adb5-e9b303b33bed",
   "metadata": {},
   "source": []
  },
  {
   "cell_type": "markdown",
   "id": "3b2caf03-41cb-41f9-93eb-778047b9b944",
   "metadata": {},
   "source": [
    "Verify (numerically on an example) that $D_E$ is a projector."
   ]
  },
  {
   "cell_type": "code",
   "execution_count": null,
   "id": "94dbc7f8-c2fc-4337-9828-dd2e3311830d",
   "metadata": {},
   "outputs": [],
   "source": [
    "# your answer here"
   ]
  },
  {
   "cell_type": "markdown",
   "id": "560aa1b8-2c8b-4567-b3f1-2f89f275a935",
   "metadata": {},
   "source": [
    "### 3. Extended signals in the Fourier domain\n",
    "Let us now define an operator that will work almost as the normalized Fourier transform, except that it will be applied to the extended signals and preserve the $x_E$ part. This can be easily done using the following block matrix:\n",
    "\n",
    "$\\tilde{W} = \\begin{pmatrix}\\hat{W} & 0 \\\\0 & I_M\\end{pmatrix}$.\n",
    "\n",
    "Prove that it is orthonormal. "
   ]
  },
  {
   "cell_type": "code",
   "execution_count": null,
   "id": "9dba806c-4978-456a-b564-a4af34bd532c",
   "metadata": {},
   "outputs": [],
   "source": []
  },
  {
   "cell_type": "markdown",
   "id": "f140c720-eaed-4fd2-8b9f-6b99a1a5b0ff",
   "metadata": {},
   "source": [
    "Write a function that builds this matrix."
   ]
  },
  {
   "cell_type": "code",
   "execution_count": null,
   "id": "b744a698-40d5-41a6-9623-76a19f50bcd2",
   "metadata": {},
   "outputs": [],
   "source": [
    "def Wt_E(N, M, E):\n",
    "    # your code here\n",
    "    return None"
   ]
  },
  {
   "cell_type": "markdown",
   "id": "ded7d52d-2386-46b3-9249-7c6b2214fce8",
   "metadata": {},
   "source": [
    "Multiplying an extended signal $\\tilde{x}$ by $\\tilde{W}$ will result in a vector containing the Fourier transform of $x$ followed by $x_E$, preserving the known values.\n",
    "\n",
    "Recalling the low-pass matrix $P$ defined previously, build $\\tilde{P}$ s.t. when applied to $\\tilde{W}\\tilde{x}$ it results in a vector containing the filtered values (still in the Fourier domain) followed by $x_E$."
   ]
  },
  {
   "cell_type": "code",
   "execution_count": null,
   "id": "4576bfbc-a249-4d89-919d-47763c8a60f9",
   "metadata": {},
   "outputs": [],
   "source": [
    "def Pt_E(N, M, w):\n",
    "    # your code here\n",
    "    return None"
   ]
  },
  {
   "cell_type": "markdown",
   "id": "041ea2c5-226e-4e71-8109-61c942f8fde9",
   "metadata": {},
   "source": [
    "A signal $\\tilde{x}$ will be filtered by doing $\\tilde{W}^H \\tilde{P}\\tilde{W}\\tilde{x}$.\n",
    "Prove that this is a projection."
   ]
  },
  {
   "cell_type": "markdown",
   "id": "f1a53730-0d6f-4aad-9103-4428309fe183",
   "metadata": {},
   "source": []
  },
  {
   "cell_type": "markdown",
   "id": "498a2871-acab-4906-9e38-fdcc536b6884",
   "metadata": {},
   "source": [
    "### 4. Signal restoration\n",
    "\n",
    "We can now use all defined above to implement a function that performs an iteration, taking as input the extension of $x$ as defined above, that does the following:\n",
    "- compute the filtered version of the signal using $\\tilde{W}^H \\tilde{P}\\tilde{W}$\n",
    "- restore the known values in the signal by using $D_E = C_E\\tilde{B}_E$"
   ]
  },
  {
   "cell_type": "code",
   "execution_count": null,
   "id": "155e3277-bcef-44ed-b53f-a1b2e5ad7363",
   "metadata": {},
   "outputs": [],
   "source": [
    "def restoration_iter(Wt, Pt, Dt, xt):\n",
    "    # your code here\n",
    "    # make sure to force the result to real values by using np.real before returning\n",
    "    return None"
   ]
  },
  {
   "cell_type": "markdown",
   "id": "758aa9ce-1ebc-49e1-b2f6-ca8e1035b31c",
   "metadata": {},
   "source": [
    "Finally we are ready to apply all this to an example."
   ]
  },
  {
   "cell_type": "code",
   "execution_count": null,
   "id": "b467649e-2a46-40f2-bc98-73c354fb0484",
   "metadata": {},
   "outputs": [],
   "source": [
    "# Setup an example\n",
    "N = 100\n",
    "w = 10 # cut-off\n",
    "w1 = 3\n",
    "w2 = 7\n",
    "E =  np.array([0, 5, 10, 15, 20, 25, 30, 35, 40, 45, 50, 55, 60, 65, 70, 75, 80, 85, 90, 95])\n",
    "# E =  np.array([0, 10, 20, 30, 40, 50, 60, 70, 80, 90]) # try with less known points\n",
    "M = len(E)\n",
    "x = np.cos(2*w1*np.pi*np.arange(0, N)/N) + np.sin(2*w2*np.pi*np.arange(0,N)/N) # original signal\n",
    "y = np.random.rand(N)\n",
    "y[E] = x[E] # restore known values\n",
    "xe = x[E]"
   ]
  },
  {
   "cell_type": "code",
   "execution_count": null,
   "id": "510b6f8f-b1c2-48b7-af00-eee8e55b5868",
   "metadata": {},
   "outputs": [],
   "source": [
    "plt.plot(y) # plot the \"acquired\" signal"
   ]
  },
  {
   "cell_type": "code",
   "execution_count": null,
   "id": "6f8a11a9-7a1d-45c7-b903-d5a08970de39",
   "metadata": {},
   "outputs": [],
   "source": [
    "plt.plot(x) # plot the ground truth signal"
   ]
  },
  {
   "cell_type": "markdown",
   "id": "b71f1ff5-73d6-4bc1-ba06-1452c8bf8adb",
   "metadata": {},
   "source": [
    "Generate $\\tilde{y}$ (this only need to be done once)"
   ]
  },
  {
   "cell_type": "code",
   "execution_count": null,
   "id": "4e0943bf-0f35-4837-b6db-1615ba466ae5",
   "metadata": {},
   "outputs": [],
   "source": [
    "yt = # your code here"
   ]
  },
  {
   "cell_type": "markdown",
   "id": "c25239d9-3015-4a33-b0c0-0c906ee4129e",
   "metadata": {},
   "source": [
    "Run a number of iterations of the method and plot the result:"
   ]
  },
  {
   "cell_type": "code",
   "execution_count": null,
   "id": "6aaf1a71-6c2a-4f43-a51e-82b40cc6d6d0",
   "metadata": {},
   "outputs": [],
   "source": [
    "def signal_restore(Wt, Pt, Dt, yt, niter=20):\n",
    "    yr0 = yt # initialize\n",
    "    for k in range(niter):\n",
    "        yr1 = restoration_iter(Wt, Pt, Dt, yr0)\n",
    "        yr0 = yr1\n",
    "    return yr1"
   ]
  },
  {
   "cell_type": "code",
   "execution_count": null,
   "id": "951418c2-ee12-4e8d-8f58-cba29d26dd7e",
   "metadata": {},
   "outputs": [],
   "source": [
    "Wt = Wt_E(N, M, E)\n",
    "Dt = C_E(N, M, E)@Bt_E(N, M, E)\n",
    "Pt = Pt_E(N, M, w)\n",
    "yr = signal_restore(Wt, Pt, Dt, yt)"
   ]
  },
  {
   "cell_type": "code",
   "execution_count": null,
   "id": "43b3d939-eeb2-4171-9293-0076f1c06c83",
   "metadata": {},
   "outputs": [],
   "source": [
    "plt.plot(yr[:N]) # plot reconstructed signal\n",
    "plt.plot(x, 'r') # plot original for comparison"
   ]
  },
  {
   "cell_type": "markdown",
   "id": "bf876405-b60c-4f7c-9162-56d58cafd19f",
   "metadata": {},
   "source": [
    "Depending on $M$, you will find that the method can reconstruct perfectly the signal or not.  "
   ]
  }
 ],
 "metadata": {
  "kernelspec": {
   "display_name": "Python 3 (ipykernel)",
   "language": "python",
   "name": "python3"
  },
  "language_info": {
   "codemirror_mode": {
    "name": "ipython",
    "version": 3
   },
   "file_extension": ".py",
   "mimetype": "text/x-python",
   "name": "python",
   "nbconvert_exporter": "python",
   "pygments_lexer": "ipython3",
   "version": "3.9.7"
  }
 },
 "nbformat": 4,
 "nbformat_minor": 5
}
